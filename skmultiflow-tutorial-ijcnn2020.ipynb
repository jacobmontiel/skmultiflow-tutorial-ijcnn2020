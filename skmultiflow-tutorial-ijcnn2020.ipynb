{
 "cells": [
  {
   "cell_type": "code",
   "execution_count": null,
   "metadata": {
    "slideshow": {
     "slide_type": "slide"
    }
   },
   "outputs": [],
   "source": [
    "# Required to correctly display interactive (dynamic) plots in Jupyter notebooks.\n",
    "# This code cell must be run before any other code cell.\n",
    "%matplotlib notebook\n",
    "\n",
    "# Generic imports\n",
    "import numpy as np\n",
    "import matplotlib.pyplot as plt\n",
    "from matplotlib import gridspec"
   ]
  },
  {
   "cell_type": "markdown",
   "metadata": {
    "slideshow": {
     "slide_type": "slide"
    }
   },
   "source": [
    "# `scikit-multiflow` tutorial"
   ]
  },
  {
   "cell_type": "markdown",
   "metadata": {},
   "source": [
    "This tutorial is divided into the follwing parts:\n",
    "\n",
    "**PART I.Design and run experiments**\n",
    "1. Classification task examples\n",
    "  1. Prequential evaluation implementation\n",
    "  2. The `EvaluatePrequential` class\n",
    "\n",
    "2. Concept drift detection\n",
    "  1. Drift detection test\n",
    "  2. Impact on predictive performance\n",
    "\n",
    "3. Regression task examples\n",
    "\n",
    "**PART II. Extend functionality**\n",
    "4. Implement a simple estimator\n",
    "  \n",
    "---"
   ]
  },
  {
   "cell_type": "markdown",
   "metadata": {
    "slideshow": {
     "slide_type": "slide"
    }
   },
   "source": [
    "# PART I. Design and run experiments\n",
    "\n",
    "## 1. Classification task examples\n",
    "\n",
    "In this example we will use the `SEA` stream generator. A data generator does not store any data, but generates it on demand.\n",
    "\n",
    "Next we will setup a learning method (model, estimator, algorithm), in this case the Naive Bayes classifier:"
   ]
  },
  {
   "cell_type": "code",
   "execution_count": null,
   "metadata": {
    "slideshow": {
     "slide_type": "-"
    }
   },
   "outputs": [],
   "source": [
    "from skmultiflow.data import SEAGenerator\n",
    "from skmultiflow.bayes import NaiveBayes\n",
    "\n",
    "stream = SEAGenerator(random_state=1)\n",
    "classifier = NaiveBayes()"
   ]
  },
  {
   "cell_type": "markdown",
   "metadata": {},
   "source": [
    "### Prequential evaluation\n",
    "\n",
    "The prequentail evaluation is easily implemented as a loop:"
   ]
  },
  {
   "cell_type": "code",
   "execution_count": null,
   "metadata": {},
   "outputs": [],
   "source": [
    "# Variables to control evaluation loop and track performance\n",
    "n_samples = 0\n",
    "correct_cnt = 0\n",
    "max_samples = 2000\n",
    "\n",
    "# Prequential evaluation loop\n",
    "# TODO\n",
    "\n",
    "print('{} samples analyzed.'.format(n_samples))   \n",
    "print('NaiveBayes classifier accuracy: {}'.format(correct_cnt / n_samples))"
   ]
  },
  {
   "cell_type": "markdown",
   "metadata": {
    "slideshow": {
     "slide_type": "slide"
    }
   },
   "source": [
    "### The `EvaluatePrequential` class\n",
    "\n",
    "Implements the prequential evaluation method and provides extra functionalities.\n",
    "\n",
    "Let's run the same experiment on the SEA data but this time we will compare two classifiers:\n",
    "\n",
    "1. `NaiveBayes`\n",
    "2. `SGDClassifier`: Linear SVM with SGD training.\n",
    "\n",
    "We choose the `SGDClassifier` in order to demonstrate the compatibility with incremental methods from `scikit-learn`.\n",
    "\n",
    "**Note:** `scikit-learn` focuses on the batch learing setting and only a **limited** number of its methods are capable to learn incrementally."
   ]
  },
  {
   "cell_type": "code",
   "execution_count": null,
   "metadata": {
    "slideshow": {
     "slide_type": "-"
    }
   },
   "outputs": [],
   "source": [
    "from skmultiflow.evaluation import EvaluatePrequential\n",
    "from sklearn.linear_model import SGDClassifier\n",
    "\n",
    "# Setup stream and estimators\n",
    "stream = SEAGenerator(random_state=1)\n",
    "nb = NaiveBayes()\n",
    "svm = SGDClassifier()\n",
    "\n",
    "# Setup evaluator\n",
    "# TODO"
   ]
  },
  {
   "cell_type": "code",
   "execution_count": null,
   "metadata": {
    "scrolled": false,
    "slideshow": {
     "slide_type": "slide"
    }
   },
   "outputs": [],
   "source": [
    "# Run the evaluation\n",
    "# TODO"
   ]
  },
  {
   "cell_type": "markdown",
   "metadata": {
    "slideshow": {
     "slide_type": "slide"
    }
   },
   "source": [
    "---\n",
    "## 2. Concept Drift\n",
    "\n",
    "#### Simulate a data stream with concept drift\n",
    "\n",
    "For this example, we will generate a synthetic data stream by concatenating 3 distributions of 1000 samples each:\n",
    "- $dist_a$: $\\mu=0.8$, $\\sigma=0.05$\n",
    "- $dist_b$: $\\mu=0.4$, $\\sigma=0.02$\n",
    "- $dist_c$: $\\mu=0.6$, $\\sigma=0.1$."
   ]
  },
  {
   "cell_type": "code",
   "execution_count": null,
   "metadata": {
    "scrolled": false
   },
   "outputs": [],
   "source": [
    "random_state = np.random.RandomState(12345)\n",
    "dist_a = random_state.normal(0.8, 0.05, 1000)\n",
    "dist_b = random_state.normal(0.4, 0.02, 1000)\n",
    "dist_c = random_state.normal(0.6, 0.1, 1000)\n",
    "\n",
    "stream = np.concatenate((dist_a, dist_b, dist_c))\n",
    "\n",
    "# Plot the data\n",
    "fig = plt.figure(figsize=(7,3), tight_layout=True)\n",
    "gs = gridspec.GridSpec(1, 2, width_ratios=[3, 1]) \n",
    "ax1, ax2 = plt.subplot(gs[0]), plt.subplot(gs[1])\n",
    "ax1.grid()\n",
    "ax1.plot(stream, label='Stream')\n",
    "ax2.grid(axis='y')\n",
    "ax2.hist(dist_a, label=r'$dist_a$')\n",
    "ax2.hist(dist_b, label=r'$dist_b$')\n",
    "ax2.hist(dist_c, label=r'$dist_c$')\n",
    "plt.legend()\n",
    "plt.show()"
   ]
  },
  {
   "cell_type": "markdown",
   "metadata": {
    "slideshow": {
     "slide_type": "slide"
    }
   },
   "source": [
    "### Drift detection test\n",
    "\n",
    "In this example we will use the ADaptive WINdowing (`ADWIN`) drift detection method.\n",
    "\n",
    "The goal is to detect that drift has occurred, after samples **1000** and **2000** in the synthetic data stream."
   ]
  },
  {
   "cell_type": "code",
   "execution_count": null,
   "metadata": {
    "slideshow": {
     "slide_type": "-"
    }
   },
   "outputs": [],
   "source": [
    "from skmultiflow.drift_detection import ADWIN\n",
    "\n",
    "# Instantiate the ADWIN drift detector\n",
    "drift_detector = ADWIN()\n",
    "drifts = []\n",
    "\n",
    "# Drift detection test\n",
    "# TODO"
   ]
  },
  {
   "cell_type": "code",
   "execution_count": null,
   "metadata": {},
   "outputs": [],
   "source": [
    "# Plot the data and the detected drifts\n",
    "fig = plt.figure(figsize=(7,3), tight_layout=True)\n",
    "gs = gridspec.GridSpec(1, 2, width_ratios=[3, 1]) \n",
    "ax1, ax2 = plt.subplot(gs[0]), plt.subplot(gs[1])\n",
    "ax1.grid()\n",
    "ax1.plot(stream, label='Stream')\n",
    "for d in drifts:\n",
    "    ax1.axvline(d, color='red')\n",
    "ax2.grid(axis='y')\n",
    "ax2.hist(dist_a, label=r'$dist_a$')\n",
    "ax2.hist(dist_b, label=r'$dist_b$')\n",
    "ax2.hist(dist_c, label=r'$dist_c$')\n",
    "plt.legend()\n",
    "plt.show()"
   ]
  },
  {
   "cell_type": "markdown",
   "metadata": {
    "slideshow": {
     "slide_type": "slide"
    }
   },
   "source": [
    "### Impact on predictive performance\n",
    "\n",
    "In this example we will use two popular stream models:\n",
    "\n",
    "1. The `Hoeffding Tree` is a type of decision tree designed for data streams.\n",
    "2. The `Hoeffding Adaptive Tree` is an improvement over the original `Hoeffding Tree`.\n",
    "\n",
    "The `Hoeffding Adaptive Tree` uses `ADWIN` to detect changes, if a change is detected at a given branch, an alternate branch is created and eventually replaces the original branch if it shows better performance on new data.\n",
    "\n",
    "For this example we will load the data from a csv file using the `FileStream` class.\n",
    "\n",
    "The data corresponds to the output of the `AGRAWALGenerator` with 3 **gradual drifts** at the 5k, 10k and 15k marks.\n",
    "\n",
    "#### AGRAWAL data generator\n",
    "\n",
    "The generator produces a stream containing 9 features, 6 numeric and 3 categorical.\n",
    " \n",
    "There are 10 functions for generating binary class labels from the features. These fnctions determine whether a loan should be approved.\n",
    "\n",
    "| Feature    | Description            | Values                                                                |\n",
    "|------------|------------------------|-----------------------------------------------------------------------|\n",
    "| salary     | the salary             | uniformly   distributed from 20k to 150k                              |\n",
    "| commission | the commission         | if (salary <   75k) then 0 else uniformly distributed from 10k to 75k |\n",
    "| age        | the age                | uniformly   distributed from 20 to 80                                 |\n",
    "| elevel     | the education   level  | uniformly   chosen from 0 to 4                                        |\n",
    "| car        | car maker              | uniformly   chosen from 1 to 20                                       |\n",
    "| zipcode    | zip code of the   town | uniformly   chosen from 0 to 8                                        |\n",
    "| hvalue     | value of the   house   | uniformly   distributed from 50k x zipcode to 100k x zipcode          |\n",
    "| hyears     | years house   owned    | uniformly   distributed from 1 to 30                                  |\n",
    "| loan       | total loan   amount    | uniformly   distributed from 0 to 500k                                |"
   ]
  },
  {
   "cell_type": "code",
   "execution_count": null,
   "metadata": {
    "scrolled": false,
    "slideshow": {
     "slide_type": "-"
    }
   },
   "outputs": [],
   "source": [
    "from skmultiflow.data import FileStream\n",
    "from skmultiflow.trees import HoeffdingTreeClassifier\n",
    "from skmultiflow.trees import HoeffdingAdaptiveTreeClassifier\n",
    "\n",
    "# Load data\n",
    "# TODO\n",
    "# stream = \n",
    "# Setup estimators\n",
    "# TODO\n",
    "# cfiers = "
   ]
  },
  {
   "cell_type": "code",
   "execution_count": null,
   "metadata": {
    "scrolled": false,
    "slideshow": {
     "slide_type": "-"
    }
   },
   "outputs": [],
   "source": [
    "# Setup and run the evaluation\n",
    "eval = EvaluatePrequential(show_plot=True,\n",
    "                           metrics=['accuracy', 'kappa', 'model_size'],\n",
    "                           n_wait=100)\n",
    "eval.evaluate(stream=stream, model=cfiers, model_names=['HT', 'HAT']);"
   ]
  },
  {
   "cell_type": "markdown",
   "metadata": {},
   "source": [
    "---\n",
    "## 3. Regression task examples\n",
    "\n",
    "### Data sets\n",
    "\n",
    "|          Dataset         | Samples | Attributes |\n",
    "|:------------------------:|:-------:|:----------:|\n",
    "|           bike           |  17389  |     16     |\n",
    "| metro_interstate_traffic |  48204  |      9     |"
   ]
  },
  {
   "cell_type": "markdown",
   "metadata": {},
   "source": [
    "#### Bike Sharing Dataset Data Set\n",
    "\n",
    "Contains the **hourly and daily count of rental bikes** between years 2011 and 2012 in Capital bikeshare system with the corresponding weather and seasonal information. Attributes include weather, temperature, date, time, etc.\n",
    "\n",
    "|      Attribute      | Description |\n",
    "|:-------------------:|:-----------------------------------------------------------------|\n",
    "| instant             | record index\n",
    "| dteday              |  date\n",
    "| season              |  season (1:winter, 2:spring, 3:summer, 4:fall)\n",
    "| yr                  |  year (0: 2011, 1:2012)\n",
    "| mnth                |  month ( 1 to 12)\n",
    "| hr                  |  hour (0 to 23)\n",
    "| holiday             |  weather day is holiday or not (extracted from [Web Link])\n",
    "| weekday             |  day of the week\n",
    "| workingday          |  if day is neither weekend nor holiday is 1, otherwise is 0.\n",
    "| weathersit          | 1: Clear, Few clouds, Partly cloudy, Partly cloudy<br>2: Mist + Cloudy, Mist + Broken clouds, Mist + Few clouds, Mist<br>3: Light Snow, Light Rain + Thunderstorm + Scattered clouds, Light Rain + Scattered clouds<br>4: Heavy Rain + Ice Pallets + Thunderstorm + Mist, Snow + Fog\n",
    "| temp                | Normalized temperature in Celsius.\n",
    "| atemp               | Normalized feeling temperature in Celsius.\n",
    "| hum                 | Normalized humidity.\n",
    "| windspeed           | Normalized wind speed.\n",
    "| casual              | count of casual users\n",
    "| registered          | count of registered users\n",
    "| **cnt**             | count of total rental bikes including both casual and registered"
   ]
  },
  {
   "cell_type": "code",
   "execution_count": null,
   "metadata": {},
   "outputs": [],
   "source": [
    "bike_stream = FileStream('data/bike.csv')"
   ]
  },
  {
   "cell_type": "markdown",
   "metadata": {},
   "source": [
    "#### Metro Interstate Traffic Volume Data Set\n",
    "\n",
    "Hourly Interstate 94 Westbound traffic volume for MN DoT ATR station 301, roughly midway between Minneapolis and St Paul, MN. **Hourly weather features and holidays included for impacts on traffic volume.**\n",
    "\n",
    "|      Attribute      | Description |\n",
    "|:-------------------:|:-----------------------------------------------------------------|\n",
    "| holiday             | US National holidays plus regional holiday, Minnesota State Fair |\n",
    "| temp                | temp in kelvin                                                   |\n",
    "| rain_1h             | Amount in mm of rain that occurred in the hour                   |\n",
    "| snow_1h             | Amount in mm of snow that occurred in the hour                   |\n",
    "| clouds_all          | Percentage of cloud cover                                        |\n",
    "| weather_main        | Short textual description of the current weather                 |\n",
    "| weather_description | Longer textual description of the current weather                |\n",
    "| date_time           | Hour of the data collected in local CST time                     |\n",
    "| **traffic_volume**  | Hourly I-94 ATR 301 reported westbound traffic volume            |"
   ]
  },
  {
   "cell_type": "code",
   "execution_count": null,
   "metadata": {},
   "outputs": [],
   "source": [
    "traffic_stream = FileStream('data/metro_interstate_traffic.csv')"
   ]
  },
  {
   "cell_type": "markdown",
   "metadata": {},
   "source": [
    "### Regression models\n",
    "\n",
    "In this example we will use the regression variants of two popular algorithms:\n",
    "* kNN Regressor\n",
    "* Hoeffding Tree Regressor"
   ]
  },
  {
   "cell_type": "code",
   "execution_count": null,
   "metadata": {},
   "outputs": [],
   "source": [
    "from skmultiflow.lazy import KNNRegressor\n",
    "from skmultiflow.trees import HoeffdingTreeRegressor\n",
    "\n",
    "# Setup estimators\n",
    "knn_r = KNNRegressor()\n",
    "ht_r = HoeffdingTreeRegressor(leaf_prediction='mean')\n",
    "# Setup evaluation\n",
    "evaluator = EvaluatePrequential(show_plot=True,\n",
    "                                metrics=['mean_absolute_error', 'mean_square_error', 'running_time' , 'model_size'])"
   ]
  },
  {
   "cell_type": "code",
   "execution_count": null,
   "metadata": {},
   "outputs": [],
   "source": [
    "stream = traffic_stream\n",
    "\n",
    "evaluator.evaluate(stream=stream, model=[knn_r, ht_r], model_names=['kNN-R', 'HT-R'])\n",
    "\n",
    "# Restart stream and reset models for next experiment\n",
    "stream.restart()\n",
    "knn_r.reset()\n",
    "ht_r.reset();"
   ]
  },
  {
   "cell_type": "markdown",
   "metadata": {},
   "source": [
    "---\n",
    "# PART II. Extend functionality\n",
    "\n",
    "## 4. Implement a simple estimator\n",
    "\n",
    "\n",
    "A core design element in `scikit-multiflow` is that it should be easy to create new methods or extend existing ones.\n",
    "\n",
    "In the following example we show how to implement the `MajorityClassClassifier`.\n",
    "\n",
    "The Majority Class is one of the simplest classifiers: it predicts the class of a new sample to be the most frequent at that point in the stream. It is used mostly as a baseline, but also as a default classifier at the leaves of decision trees."
   ]
  },
  {
   "cell_type": "code",
   "execution_count": null,
   "metadata": {},
   "outputs": [],
   "source": [
    "from skmultiflow.core import BaseSKMObject, ClassifierMixin\n",
    "from collections import defaultdict\n",
    "\n",
    "class MajorityClassClassifier(BaseSKMObject, ClassifierMixin):\n",
    "    def __init__(self):\n",
    "        # TODO\n",
    "    \n",
    "    def partial_fit(self, X, y, classes=None, sample_weight=None):\n",
    "        # TODO\n",
    "\n",
    "    def predict(self, X):\n",
    "        # TODO\n",
    "\n",
    "    def predict_proba(self, X):\n",
    "        # TODO"
   ]
  },
  {
   "cell_type": "code",
   "execution_count": null,
   "metadata": {},
   "outputs": [],
   "source": [
    "# Setup stream and estimators\n",
    "stream = SEAGenerator(random_state=1)\n",
    "nb = NaiveBayes()\n",
    "mc = MajorityClassClassifier()\n",
    "\n",
    "# Setup evaluator\n",
    "eval = EvaluatePrequential(show_plot=True,\n",
    "                           max_samples=20000,\n",
    "                           metrics=['accuracy', 'kappa', 'running_time', 'model_size'])"
   ]
  },
  {
   "cell_type": "code",
   "execution_count": null,
   "metadata": {
    "scrolled": false
   },
   "outputs": [],
   "source": [
    "# Run the evaluation\n",
    "eval.evaluate(stream=stream, model=[nb, mc], model_names=['NB', 'MC']);"
   ]
  },
  {
   "cell_type": "code",
   "execution_count": null,
   "metadata": {},
   "outputs": [],
   "source": []
  }
 ],
 "metadata": {
  "anaconda-cloud": {},
  "kernelspec": {
   "display_name": "Python 3.7",
   "language": "python",
   "name": "py37"
  },
  "language_info": {
   "codemirror_mode": {
    "name": "ipython",
    "version": 3
   },
   "file_extension": ".py",
   "mimetype": "text/x-python",
   "name": "python",
   "nbconvert_exporter": "python",
   "pygments_lexer": "ipython3",
   "version": "3.7.7"
  }
 },
 "nbformat": 4,
 "nbformat_minor": 2
}
